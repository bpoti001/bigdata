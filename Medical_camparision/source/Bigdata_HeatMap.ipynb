{
 "cells": [
  {
   "cell_type": "code",
   "execution_count": 237,
   "metadata": {
    "collapsed": false
   },
   "outputs": [],
   "source": [
    "from __future__ import print_function\n",
    "import numpy as np\n",
    "import matplotlib.pyplot as plt\n",
    "from mpl_toolkits.basemap import Basemap as Basemap\n",
    "from matplotlib.colors import rgb2hex\n",
    "from matplotlib.patches import Polygon\n",
    "import csv\n",
    "import matplotlib as mpl"
   ]
  },
  {
   "cell_type": "code",
   "execution_count": 238,
   "metadata": {
    "collapsed": false
   },
   "outputs": [],
   "source": [
    "m = Basemap(llcrnrlon=-119,llcrnrlat=22,urcrnrlon=-64,urcrnrlat=49,\n",
    "            projection='lcc',lat_1=33,lat_2=45,lon_0=-95)"
   ]
  },
  {
   "cell_type": "code",
   "execution_count": 239,
   "metadata": {
    "collapsed": false
   },
   "outputs": [],
   "source": [
    "shp_info = m.readshapefile('st99_d00','states',drawbounds=True)"
   ]
  },
  {
   "cell_type": "code",
   "execution_count": 240,
   "metadata": {
    "collapsed": false
   },
   "outputs": [],
   "source": [
    "data = {}\n",
    "with open('data_1.csv','r') as f:\n",
    "    reader = csv.reader(f)\n",
    "    for row in reader:\n",
    "            if row[0]!='State':\n",
    "                data[row[0]]=float(row[1])"
   ]
  },
  {
   "cell_type": "code",
   "execution_count": 241,
   "metadata": {
    "collapsed": false
   },
   "outputs": [],
   "source": [
    "import us\n",
    "import operator"
   ]
  },
  {
   "cell_type": "code",
   "execution_count": 242,
   "metadata": {
    "collapsed": false
   },
   "outputs": [],
   "source": [
    "new_dict={}\n",
    "for key, value in data.items():\n",
    "    new_dict[str(us.states.lookup(key))]=data[key]"
   ]
  },
  {
   "cell_type": "code",
   "execution_count": 243,
   "metadata": {
    "collapsed": true
   },
   "outputs": [],
   "source": [
    "colors={}\n",
    "statenames=[]"
   ]
  },
  {
   "cell_type": "code",
   "execution_count": 244,
   "metadata": {
    "collapsed": true
   },
   "outputs": [],
   "source": [
    "cmap = plt.cm.summer # use 'hot' colormap\n",
    "vmin = int(float(min(data.items(), key=operator.itemgetter(1))[1])); vmax = int(float(max(data.items(), key=operator.itemgetter(1))[1])) # set range."
   ]
  },
  {
   "cell_type": "code",
   "execution_count": 245,
   "metadata": {
    "collapsed": false
   },
   "outputs": [
    {
     "name": "stdout",
     "output_type": "stream",
     "text": [
      "dict_keys(['AREA', 'NAME', 'LSAD', 'RINGNUM', 'PERIMETER', 'STATE', 'ST99_D00_', 'DIVISION', 'LSAD_TRANS', 'SHAPENUM', 'ST99_D00_I', 'REGION'])\n"
     ]
    }
   ],
   "source": [
    "print(m.states_info[0].keys())\n",
    "for shapedict in m.states_info:\n",
    "    statename = shapedict['NAME']"
   ]
  },
  {
   "cell_type": "code",
   "execution_count": 246,
   "metadata": {
    "collapsed": false
   },
   "outputs": [],
   "source": [
    "for shapedict in m.states_info:\n",
    "    statename = shapedict['NAME']\n",
    "    pop = new_dict[statename]\n",
    "    colors[statename] = cmap(1.-np.sqrt((pop-vmin)/(vmax-vmin)))[:3]\n",
    "    statenames.append(statename)"
   ]
  },
  {
   "cell_type": "code",
   "execution_count": 247,
   "metadata": {
    "collapsed": false
   },
   "outputs": [],
   "source": [
    "fig, ax = plt.subplots() # get current axes instance\n",
    "patches=[]\n",
    "my_color=[]\n",
    "for nshape,seg in enumerate(m.states):\n",
    "    color = rgb2hex(colors[statenames[nshape]]) \n",
    "    poly = Polygon(seg,facecolor=color,edgecolor=color)\n",
    "    #patches.append(poly)\n",
    "    #my_color.append(color)\n",
    "    ax.add_patch(poly)\n",
    "   # if statenames[nshape] not in ['District of Columbia','Puerto Rico']:\n",
    "        "
   ]
  },
  {
   "cell_type": "code",
   "execution_count": 248,
   "metadata": {
    "collapsed": false
   },
   "outputs": [
    {
     "data": {
      "text/plain": [
       "{-120: ([<matplotlib.lines.Line2D at 0xdfc0b4df28>], []),\n",
       " -100: ([<matplotlib.lines.Line2D at 0xdfc0b5a2b0>],\n",
       "  [<matplotlib.text.Text at 0xdfc0b612e8>]),\n",
       " -80: ([<matplotlib.lines.Line2D at 0xdfc0b5aa90>],\n",
       "  [<matplotlib.text.Text at 0xdfc0b61780>])}"
      ]
     },
     "execution_count": 248,
     "metadata": {},
     "output_type": "execute_result"
    }
   ],
   "source": [
    "\n",
    "m.drawparallels(np.arange(25,65,20),labels=[1,0,0,0])\n",
    "m.drawmeridians(np.arange(-120,-40,20),labels=[0,0,0,1])\n"
   ]
  },
  {
   "cell_type": "code",
   "execution_count": 249,
   "metadata": {
    "collapsed": false
   },
   "outputs": [
    {
     "data": {
      "text/plain": [
       "<matplotlib.axes._axes.Axes at 0xdfb71f97f0>"
      ]
     },
     "execution_count": 249,
     "metadata": {},
     "output_type": "execute_result"
    }
   ],
   "source": [
    "cax = fig.add_axes([0.95, 0.2, 0.02, 0.6])\n",
    "cax"
   ]
  },
  {
   "cell_type": "code",
   "execution_count": 250,
   "metadata": {
    "collapsed": true
   },
   "outputs": [],
   "source": [
    "norm = mpl.colors.Normalize(vmin, vmax)"
   ]
  },
  {
   "cell_type": "code",
   "execution_count": 251,
   "metadata": {
    "collapsed": false
   },
   "outputs": [],
   "source": [
    "cb = mpl.colorbar.ColorbarBase(cax, cmap=cmap, norm=norm, spacing='proportional')"
   ]
  },
  {
   "cell_type": "code",
   "execution_count": 252,
   "metadata": {
    "collapsed": false
   },
   "outputs": [],
   "source": [
    "fig.suptitle('Average Cost For The Procedure “Cardiovascular Stress Test\"', fontsize=14, fontweight='bold')\n",
    "#plt.colorbar()\n",
    "plt.show()"
   ]
  },
  {
   "cell_type": "code",
   "execution_count": null,
   "metadata": {
    "collapsed": true
   },
   "outputs": [],
   "source": []
  },
  {
   "cell_type": "code",
   "execution_count": null,
   "metadata": {
    "collapsed": true
   },
   "outputs": [],
   "source": []
  }
 ],
 "metadata": {
  "kernelspec": {
   "display_name": "Python 3",
   "language": "python",
   "name": "python3"
  },
  "language_info": {
   "codemirror_mode": {
    "name": "ipython",
    "version": 3
   },
   "file_extension": ".py",
   "mimetype": "text/x-python",
   "name": "python",
   "nbconvert_exporter": "python",
   "pygments_lexer": "ipython3",
   "version": "3.5.1"
  }
 },
 "nbformat": 4,
 "nbformat_minor": 0
}
